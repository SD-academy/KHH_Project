{
  "nbformat": 4,
  "nbformat_minor": 0,
  "metadata": {
    "colab": {
      "name": "김현호_프로젝트_계획.ipynb",
      "provenance": [],
      "collapsed_sections": []
    },
    "kernelspec": {
      "name": "python3",
      "display_name": "Python 3"
    },
    "language_info": {
      "name": "python"
    }
  },
  "cells": [
    {
      "cell_type": "markdown",
      "metadata": {
        "id": "AgVoQUe14sPz"
      },
      "source": [
        "# 1. 주제 탐색\n",
        "    * 사람의 손 동작 인식 => 가상 입력 장치로 활용\n",
        "    * 카카오 맵 거리 뷰 스티칭 오류 교정 및 간판 배너 OCR 최신 리뷰 사진 첨부\n",
        "    * 이미지, 비디오 업스케일 화질향상\n",
        "    * zoom의 화질저하 부분을 ocr 판서 부분 선명하게 화질 향상\n",
        "    * 이미지 및 영상에서 3차원 공간 복원\n",
        "    * Viusal Odometry and Depth Estimation => 시각장애 길 안내 등 로봇 자율 주행\n",
        "\n",
        "### 1-1 참고 자료\n",
        "[1] https://www.deepmotion.com/3d-body-tracking   \n",
        "[2] https://hoya012.github.io/blog/SIngle-Image-Super-Resolution-Overview/   \n",
        "[3] https://aigong.tistory.com/51   \n",
        "[4] https://hyperconnect.github.io/MarioNETte/   \n",
        "[5] https://taeyoung96.github.io/paper_review/BTS/   \n",
        "[6] https://ichi.pro/ko/jayul-juhaeng-eul-wihan-dan-an-jogamdo-simaentig-bunhal-261887629130585   \n",
        "[7] https://goodgodgd.github.io/ian-flow/archivers/hyu-jan-2020-lecture1   \n",
        "[8] https://snacky.tistory.com/96   "
      ]
    },
    {
      "cell_type": "markdown",
      "metadata": {
        "id": "m-QKqYy88cnh"
      },
      "source": [
        "# 2. 주제 선정\n",
        "\n",
        "### 2-1. 인체 키 포인트 인식\n",
        "        * 공모전 및 AI 허브에 공공데이터 존재\n",
        "        * 가능하면 단안 이미지나 영상으로 도전\n",
        "        * 필요시 양안 스테레오 이미지나 영상 활용\n",
        "        * 프로젝트 이후 애니멀데이터톤 => 소의 키포인트 추출 대회에서 습득 기술  활용\n",
        "\n",
        "### 2-2. 간단한 아바타 애니메이션 \n",
        "        * 키 포인트 인식을 구현하고 이후 간단한 아바타 애니메이션에 연결\n",
        "        * 메타버스나 교육 콘텐츠 제작에 활용할 수 있도록 차후 확장 가능\n",
        "\n"
      ]
    },
    {
      "cell_type": "markdown",
      "metadata": {
        "id": "5FWWdHF4_WQ5"
      },
      "source": [
        "# 3. 주제 선정의 이유\n",
        "        * 평소 관심있는 컴퓨터 비전 기술 습득\n",
        "        * 시간과 장비의 한계 고려\n",
        "        * 프로젝트 결과의 확장 가능성을 고려하였습니다."
      ]
    }
  ]
}
